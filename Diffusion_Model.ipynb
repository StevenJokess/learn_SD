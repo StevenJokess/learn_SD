{
  "cells": [
    {
      "cell_type": "code",
      "execution_count": null,
      "metadata": {
        "id": "cZV9kvOuweOn"
      },
      "outputs": [],
      "source": [
        "%matplotlib inline\n",
        "import matplotlib.pyplot as plt\n",
        "import numpy as np\n",
        "from sklearn.datasets import make_s_curve\n",
        "import torch\n",
        "\n",
        "s_curve,_ = make_s_curve(10**4,noise=0.1) # 样本数为10000，噪声为0.1\n",
        "s_curve = s_curve[:,[0,2]]/10.0\n",
        "\n",
        "print(\"shape of s:\",np.shape(s_curve))\n",
        "\n",
        "data = s_curve.T\n",
        "\n",
        "fig,ax = plt.subplots()\n",
        "ax.scatter(*data,color='red',edgecolor='white');\n",
        "\n",
        "ax.axis('off')\n",
        "\n",
        "device = torch.device(\"cuda\" if torch.cuda.is_available() else \"cpu\")\n",
        "dataset = torch.Tensor(s_curve).float().to(device)"
      ]
    },
    {
      "cell_type": "code",
      "execution_count": null,
      "metadata": {
        "id": "DBN_uI_WAOFI"
      },
      "outputs": [],
      "source": [
        "dataset[0]"
      ]
    },
    {
      "cell_type": "markdown",
      "metadata": {
        "id": "S7KnabAPweOq"
      },
      "source": [
        "2、确定超参数的值"
      ]
    },
    {
      "cell_type": "code",
      "execution_count": null,
      "metadata": {
        "id": "xuMKV3deweOs"
      },
      "outputs": [],
      "source": [
        "num_steps = 100\n",
        "\n",
        "#制定每一步的beta\n",
        "betas = torch.linspace(-6,6,num_steps).to(device)\n",
        "#步长由sigmoid生成，算法本身可以选取多种步长变化策略\n",
        "betas = (torch.sigmoid(betas)*(0.5e-2 - 1e-5)+1e-5).to(device)\n",
        "\n",
        "#计算alpha、alpha_prod、alpha_prod_previous、alpha_bar_sqrt等变量的值\n",
        "alphas = 1-betas\n",
        "\n",
        "# prod就是累乘，就是论文里面带杠杠的哪个\n",
        "alphas_prod = torch.cumprod(alphas,0).to(device)\n",
        "# 第一项换成1\n",
        "alphas_prod_p = (torch.cat([torch.ones(1).to(device),alphas_prod[:-1]],0)).to(device)\n",
        "\n",
        "# 开根号\n",
        "alphas_bar_sqrt = torch.sqrt(alphas_prod).to(device)\n",
        "\n",
        "# log(1 - α)和sqrt(1 - α) \n",
        "one_minus_alphas_bar_log = torch.log(1 - alphas_prod).to(device)\n",
        "one_minus_alphas_bar_sqrt = torch.sqrt(1 - alphas_prod).to(device)\n",
        "\n",
        "assert alphas.shape==alphas_prod.shape==alphas_prod_p.shape==\\\n",
        "alphas_bar_sqrt.shape==one_minus_alphas_bar_log.shape\\\n",
        "==one_minus_alphas_bar_sqrt.shape\n",
        "print(\"all the same shape\",betas.shape)"
      ]
    },
    {
      "cell_type": "markdown",
      "metadata": {
        "id": "mnCH3rXkweOt"
      },
      "source": [
        "3、确定扩散过程任意时刻的采样值"
      ]
    },
    {
      "attachments": {},
      "cell_type": "markdown",
      "metadata": {
        "id": "rEczOd8u4_Us"
      },
      "source": [
        "![扩散](/diffusion.png)"
      ]
    },
    {
      "cell_type": "code",
      "execution_count": null,
      "metadata": {
        "id": "meda8XolweOu"
      },
      "outputs": [],
      "source": [
        "#计算任意时刻的x采样值，基于x_0和重参数化\n",
        "def q_x(x_0,t):\n",
        "    \"\"\"可以基于x[0]得到任意时刻t的x[t]\"\"\"\n",
        "    noise = torch.randn_like(x_0).to(device)\n",
        "\n",
        "    # 取出均值\n",
        "    alphas_t = alphas_bar_sqrt[t]\n",
        "    # 取出标准差\n",
        "    alphas_1_m_t = one_minus_alphas_bar_sqrt[t]\n",
        "\n",
        "    # 参数重整化技巧\n",
        "    return (alphas_t * x_0 + alphas_1_m_t * noise)#在x[0]的基础上添加噪声\n",
        "    "
      ]
    },
    {
      "cell_type": "markdown",
      "metadata": {
        "id": "BZCFD2k4weOu"
      },
      "source": [
        "4、演示原始数据分布加噪100步后的结果"
      ]
    },
    {
      "cell_type": "code",
      "execution_count": null,
      "metadata": {
        "id": "wQ1O4WqjweOu"
      },
      "outputs": [],
      "source": [
        "num_shows = 20\n",
        "fig,axs = plt.subplots(2,10,figsize=(28,3))\n",
        "plt.rc('text',color='black')\n",
        "\n",
        "#共有10000个点，每个点包含两个坐标\n",
        "#生成100步以内每隔5步加噪声后的图像\n",
        "for i in range(num_shows):\n",
        "    j = i//10\n",
        "    k = i%10\n",
        "    q_i = q_x(dataset,torch.tensor([i*num_steps//num_shows]).to(device)).cpu().detach()#生成t时刻的采样数据\n",
        "    axs[j,k].scatter(q_i[:,0],q_i[:,1],color='red',edgecolor='white')\n",
        "    axs[j,k].set_axis_off()\n",
        "    axs[j,k].set_title('$q(\\mathbf{x}_{'+str(i*num_steps//num_shows)+'})$')"
      ]
    },
    {
      "cell_type": "markdown",
      "metadata": {
        "id": "8aG5fsR3weOv"
      },
      "source": [
        "5、编写拟合逆扩散过程高斯分布的模型"
      ]
    },
    {
      "cell_type": "code",
      "execution_count": null,
      "metadata": {
        "id": "v3_aJJr2weOv"
      },
      "outputs": [],
      "source": [
        "import torch\n",
        "import torch.nn as nn\n",
        "\n",
        "class MLPDiffusion(nn.Module):\n",
        "    def __init__(self,n_steps,num_units=128):\n",
        "        super(MLPDiffusion,self).__init__()\n",
        "        \n",
        "        self.linears = nn.ModuleList(\n",
        "            [\n",
        "                nn.Linear(2,num_units),\n",
        "                nn.ReLU(),\n",
        "                nn.Linear(num_units,num_units),\n",
        "                nn.ReLU(),\n",
        "                nn.Linear(num_units,num_units),\n",
        "                nn.ReLU(),\n",
        "                nn.Linear(num_units,2),\n",
        "            ]\n",
        "        )\n",
        "        self.step_embeddings = nn.ModuleList(\n",
        "            [\n",
        "                nn.Embedding(n_steps,num_units),\n",
        "                nn.Embedding(n_steps,num_units),\n",
        "                nn.Embedding(n_steps,num_units),\n",
        "            ]\n",
        "        )\n",
        "    def forward(self,x,t):\n",
        "#         x = x_0\n",
        "        for idx,embedding_layer in enumerate(self.step_embeddings):\n",
        "            t_embedding = embedding_layer(t)\n",
        "            x = self.linears[2*idx](x)\n",
        "            x += t_embedding\n",
        "            x = self.linears[2*idx+1](x)\n",
        "            \n",
        "        x = self.linears[-1](x)\n",
        "        \n",
        "        return x"
      ]
    },
    {
      "cell_type": "markdown",
      "metadata": {
        "id": "Qp0C-jQvweOw"
      },
      "source": [
        "6、编写训练的误差函数"
      ]
    },
    {
      "attachments": {},
      "cell_type": "markdown",
      "metadata": {
        "id": "M15yIjcx8zms"
      },
      "source": [
        "![损失函数](/diffusion_loss.png)"
      ]
    },
    {
      "cell_type": "code",
      "execution_count": null,
      "metadata": {
        "id": "_BS38q0QweOw"
      },
      "outputs": [],
      "source": [
        "def diffusion_loss_fn(model,x_0,alphas_bar_sqrt,one_minus_alphas_bar_sqrt,n_steps):\n",
        "    \"\"\"对任意时刻t进行采样计算loss\"\"\"\n",
        "    batch_size = x_0.shape[0]\n",
        "    \n",
        "    #对一个batchsize样本生成随机的时刻t\n",
        "    t = torch.randint(0,n_steps,size=(batch_size//2,)).to(device)\n",
        "    t = torch.cat([t,n_steps-1-t],dim=0).to(device)\n",
        "    t = t.unsqueeze(-1)\n",
        "    \n",
        "    #x0的系数\n",
        "    a = alphas_bar_sqrt[t]\n",
        "    \n",
        "    #eps的系数\n",
        "    aml = one_minus_alphas_bar_sqrt[t]\n",
        "    \n",
        "    #生成随机噪音eps\n",
        "    e = torch.randn_like(x_0).to(device)\n",
        "    \n",
        "    #构造模型的输入\n",
        "    x = x_0*a+e*aml\n",
        "    \n",
        "    #送入模型，得到t时刻的随机噪声预测值\n",
        "    output = model(x,t.squeeze(-1))\n",
        "    \n",
        "    #与真实噪声一起计算误差，求平均值\n",
        "    return (e - output).square().mean()"
      ]
    },
    {
      "cell_type": "markdown",
      "metadata": {
        "id": "7UlFEbb3weOx"
      },
      "source": [
        "7、逆向扩散，即推理过程。编写逆扩散采样函数（inference）"
      ]
    },
    {
      "attachments": {},
      "cell_type": "markdown",
      "metadata": {
        "id": "Jv9Yv7Vi9HB4"
      },
      "source": [
        "![逆向扩散](/inverse_diffusion.png)"
      ]
    },
    {
      "cell_type": "code",
      "execution_count": null,
      "metadata": {
        "id": "13KW3_OSweOx"
      },
      "outputs": [],
      "source": [
        "def p_sample(model,x,t,betas,one_minus_alphas_bar_sqrt):\n",
        "    \"\"\"从x[T]恢复x[T-1]、x[T-2]|...x[t]\"\"\"\n",
        "    t = torch.tensor([t]).to(x.device)\n",
        "    \n",
        "    # 模型给出的噪声前面的那个系数\n",
        "    coeff = betas[t] / one_minus_alphas_bar_sqrt[t]\n",
        "    \n",
        "    # 模型预测噪声\n",
        "    eps_theta = model(x,t)\n",
        "    \n",
        "    # 恢复均值\n",
        "    mean = (1/(1-betas[t]).sqrt())*(x-(coeff*eps_theta))\n",
        "    \n",
        "    z = torch.randn_like(x)\n",
        "    # 从噪声中拿到的方差是已知的\n",
        "    sigma_t = betas[t].sqrt()\n",
        "\n",
        "    # 恢复\n",
        "    sample = mean + sigma_t * z\n",
        "    \n",
        "    return (sample)\n",
        "\n",
        "def p_sample_loop(model,shape,betas,one_minus_alphas_bar_sqrt,n_steps):\n",
        "    \"\"\"从x[T]恢复x[T-1]、x[T-2]|...x[0]\"\"\"\n",
        "    cur_x = torch.randn(shape)\n",
        "    x_seq = [cur_x]\n",
        "    for i in reversed(range(n_steps)):\n",
        "        cur_x = p_sample(model,cur_x,i,betas,one_minus_alphas_bar_sqrt)\n",
        "        x_seq.append(cur_x)\n",
        "    return x_seq"
      ]
    },
    {
      "cell_type": "markdown",
      "metadata": {
        "id": "Jg8iWp0jweOy"
      },
      "source": [
        "8、开始训练模型，打印loss及中间重构效果"
      ]
    },
    {
      "cell_type": "code",
      "execution_count": null,
      "metadata": {
        "id": "311mLyH8weOy"
      },
      "outputs": [],
      "source": [
        "seed = 1234\n",
        "\n",
        "class EMA():\n",
        "    \"\"\"构建一个参数平滑器\"\"\"\n",
        "    def __init__(self,mu=0.01):\n",
        "        self.mu = mu\n",
        "        self.shadow = {}\n",
        "        \n",
        "    def register(self,name,val):\n",
        "        self.shadow[name] = val.clone()\n",
        "        \n",
        "    def __call__(self,name,x):\n",
        "        assert name in self.shadow\n",
        "        new_average = self.mu * x + (1.0-self.mu)*self.shadow[name]\n",
        "        self.shadow[name] = new_average.clone()\n",
        "        return new_average\n",
        "    \n",
        "print('========Training model...========')\n",
        "\n",
        "batch_size = 128\n",
        "dataloader = torch.utils.data.DataLoader(dataset,batch_size=batch_size,shuffle=True)\n",
        "num_epoch = 4000\n",
        "plt.rc('text',color='blue')\n",
        "\n",
        "model = MLPDiffusion(num_steps)#输出维度是2，输入是x和step\n",
        "model.to(device)\n",
        "optimizer = torch.optim.Adam(model.parameters(),lr=1e-3)\n",
        "\n",
        "for t in range(num_epoch):\n",
        "    for idx,batch_x in enumerate(dataloader):\n",
        "        loss = diffusion_loss_fn(model,batch_x.to(device),alphas_bar_sqrt,one_minus_alphas_bar_sqrt,num_steps)\n",
        "        optimizer.zero_grad()\n",
        "        loss.backward()\n",
        "        torch.nn.utils.clip_grad_norm_(model.parameters(),1.)\n",
        "        optimizer.step()\n",
        "        \n",
        "    if(t%100==0):\n",
        "        print(f\"Epoch: {t}, Loss: {loss.item()}\")\n",
        "        x_seq = p_sample_loop(model,dataset.shape,betas,one_minus_alphas_bar_sqrt,num_steps)\n",
        "        \n",
        "        fig,axs = plt.subplots(1,10,figsize=(28,3))\n",
        "        for i in range(1,11):\n",
        "            cur_x = x_seq[i*10].detach().cpu()\n",
        "            axs[i-1].scatter(cur_x[:,0],cur_x[:,1],color='red',edgecolor='white');\n",
        "            axs[i-1].set_axis_off();\n",
        "            axs[i-1].set_title('$q(\\mathbf{x}_{'+str(i*10)+'})$')"
      ]
    },
    {
      "cell_type": "markdown",
      "metadata": {
        "id": "RrR-reqIweOz"
      },
      "source": [
        "9、动画演示扩散过程和逆扩散过程"
      ]
    },
    {
      "cell_type": "code",
      "execution_count": null,
      "metadata": {
        "id": "Pi0Ncd_1weOz"
      },
      "outputs": [],
      "source": [
        "import io\n",
        "from PIL import Image\n",
        "\n",
        "imgs = []\n",
        "for i in range(100):\n",
        "    plt.clf()\n",
        "    q_i = q_x(dataset,torch.tensor([i]))\n",
        "    plt.scatter(q_i[:,0],q_i[:,1],color='red',edgecolor='white',s=5);\n",
        "    plt.axis('off');\n",
        "    \n",
        "    img_buf = io.BytesIO()\n",
        "    plt.savefig(img_buf,format='png')\n",
        "    img = Image.open(img_buf)\n",
        "    imgs.append(img)"
      ]
    },
    {
      "cell_type": "code",
      "execution_count": null,
      "metadata": {
        "id": "UCX9uUu_weOz"
      },
      "outputs": [],
      "source": [
        "reverse = []\n",
        "for i in range(100):\n",
        "    plt.clf()\n",
        "    cur_x = x_seq[i].detach()\n",
        "    plt.scatter(cur_x[:,0],cur_x[:,1],color='red',edgecolor='white',s=5);\n",
        "    plt.axis('off')\n",
        "    \n",
        "    img_buf = io.BytesIO()\n",
        "    plt.savefig(img_buf,format='png')\n",
        "    img = Image.open(img_buf)\n",
        "    reverse.append(img)"
      ]
    },
    {
      "cell_type": "code",
      "execution_count": null,
      "metadata": {
        "id": "SQkzDDO-weO0"
      },
      "outputs": [],
      "source": [
        "imgs = imgs +reverse"
      ]
    },
    {
      "cell_type": "code",
      "execution_count": null,
      "metadata": {
        "id": "EBGXPQ4LweO0"
      },
      "outputs": [],
      "source": [
        "imgs[0].save(\"diffusion.gif\",format='GIF',append_images=imgs,save_all=True,duration=100,loop=0)"
      ]
    },
    {
      "cell_type": "code",
      "execution_count": null,
      "metadata": {
        "id": "wumlJzWhweO0"
      },
      "outputs": [],
      "source": []
    }
  ],
  "metadata": {
    "accelerator": "GPU",
    "colab": {
      "provenance": []
    },
    "gpuClass": "standard",
    "kernelspec": {
      "display_name": "Python 3",
      "language": "python",
      "name": "python3"
    },
    "language_info": {
      "codemirror_mode": {
        "name": "ipython",
        "version": 3
      },
      "file_extension": ".py",
      "mimetype": "text/x-python",
      "name": "python",
      "nbconvert_exporter": "python",
      "pygments_lexer": "ipython3",
      "version": "3.7.6"
    }
  },
  "nbformat": 4,
  "nbformat_minor": 0
}
